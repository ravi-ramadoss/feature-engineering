{
 "cells": [
  {
   "cell_type": "code",
   "execution_count": 5,
   "metadata": {},
   "outputs": [],
   "source": [
    "import random\n",
    "import pandas as pd"
   ]
  },
  {
   "cell_type": "code",
   "execution_count": 7,
   "metadata": {},
   "outputs": [
    {
     "data": {
      "text/plain": [
       "['e7854fd916566321adedef2d901af6dbe13b1d64\\tSOMMSMW12A8C13FCCC\\t1\\n',\n",
       " '77ae8820081ea684b540e534270d6c82424416b8\\tSOFBFBF12A8C1325F3\\t1\\n',\n",
       " '8be30a5bf7fcde9e447c91babbbf67001c35b20d\\tSOEAWKV12A8C13F4CE\\t8\\n',\n",
       " 'f17ac07f28f49976b4e80ca4dc42f68ca82cd2c7\\tSOUJMCF12A58A7A004\\t1\\n']"
      ]
     },
     "execution_count": 7,
     "metadata": {},
     "output_type": "execute_result"
    }
   ],
   "source": [
    "def sample_records(file, no_of_records):\n",
    "    sample = []\n",
    "    with open(file, 'r') as f:\n",
    "        for i, row in enumerate(f):\n",
    "            if i < no_of_records:\n",
    "                sample.append(row)\n",
    "            else:\n",
    "                r = random.randint(0, i)\n",
    "                if r < no_of_records:\n",
    "                    sample[r] = row\n",
    "    return sample\n",
    "\n",
    "sample = sample_records('/Users/raviramadoss/Downloads/train_triplets.txt', 1000)\n",
    "sample[0:4]"
   ]
  },
  {
   "cell_type": "code",
   "execution_count": 11,
   "metadata": {},
   "outputs": [
    {
     "data": {
      "text/html": [
       "<div>\n",
       "<style scoped>\n",
       "    .dataframe tbody tr th:only-of-type {\n",
       "        vertical-align: middle;\n",
       "    }\n",
       "\n",
       "    .dataframe tbody tr th {\n",
       "        vertical-align: top;\n",
       "    }\n",
       "\n",
       "    .dataframe thead th {\n",
       "        text-align: right;\n",
       "    }\n",
       "</style>\n",
       "<table border=\"1\" class=\"dataframe\">\n",
       "  <thead>\n",
       "    <tr style=\"text-align: right;\">\n",
       "      <th></th>\n",
       "      <th>user</th>\n",
       "      <th>song</th>\n",
       "      <th>play_count</th>\n",
       "    </tr>\n",
       "  </thead>\n",
       "  <tbody>\n",
       "    <tr>\n",
       "      <th>0</th>\n",
       "      <td>e7854fd916566321adedef2d901af6dbe13b1d64</td>\n",
       "      <td>SOMMSMW12A8C13FCCC</td>\n",
       "      <td>1</td>\n",
       "    </tr>\n",
       "    <tr>\n",
       "      <th>1</th>\n",
       "      <td>77ae8820081ea684b540e534270d6c82424416b8</td>\n",
       "      <td>SOFBFBF12A8C1325F3</td>\n",
       "      <td>1</td>\n",
       "    </tr>\n",
       "    <tr>\n",
       "      <th>2</th>\n",
       "      <td>8be30a5bf7fcde9e447c91babbbf67001c35b20d</td>\n",
       "      <td>SOEAWKV12A8C13F4CE</td>\n",
       "      <td>8</td>\n",
       "    </tr>\n",
       "    <tr>\n",
       "      <th>3</th>\n",
       "      <td>f17ac07f28f49976b4e80ca4dc42f68ca82cd2c7</td>\n",
       "      <td>SOUJMCF12A58A7A004</td>\n",
       "      <td>1</td>\n",
       "    </tr>\n",
       "    <tr>\n",
       "      <th>4</th>\n",
       "      <td>18765abd13462c176d9ccc89e71bfc23265dfed7</td>\n",
       "      <td>SOBTMGJ12A6D4F8E7A</td>\n",
       "      <td>1</td>\n",
       "    </tr>\n",
       "    <tr>\n",
       "      <th>5</th>\n",
       "      <td>3320ab73945ae7f03575fa3d5d152d2997568490</td>\n",
       "      <td>SOVHESP12A81C215E3</td>\n",
       "      <td>32</td>\n",
       "    </tr>\n",
       "    <tr>\n",
       "      <th>6</th>\n",
       "      <td>9b12f449a571eba865582b708450eda4fce24b6b</td>\n",
       "      <td>SOPUCYA12A8C13A694</td>\n",
       "      <td>1</td>\n",
       "    </tr>\n",
       "    <tr>\n",
       "      <th>7</th>\n",
       "      <td>de6cd2a7096ff31c02d3076fef621c5d909eb48f</td>\n",
       "      <td>SOPCXOV12A81C22073</td>\n",
       "      <td>2</td>\n",
       "    </tr>\n",
       "    <tr>\n",
       "      <th>8</th>\n",
       "      <td>c1ec923788c07ca46a8080196620d94227d4bcda</td>\n",
       "      <td>SOGIWKD12AB018640B</td>\n",
       "      <td>2</td>\n",
       "    </tr>\n",
       "    <tr>\n",
       "      <th>9</th>\n",
       "      <td>d4031cadd807d1b72f2f55bc70d952e90d69276a</td>\n",
       "      <td>SOHRWII12AAA8C6750</td>\n",
       "      <td>2</td>\n",
       "    </tr>\n",
       "  </tbody>\n",
       "</table>\n",
       "</div>"
      ],
      "text/plain": [
       "                                       user                song play_count\n",
       "0  e7854fd916566321adedef2d901af6dbe13b1d64  SOMMSMW12A8C13FCCC          1\n",
       "1  77ae8820081ea684b540e534270d6c82424416b8  SOFBFBF12A8C1325F3          1\n",
       "2  8be30a5bf7fcde9e447c91babbbf67001c35b20d  SOEAWKV12A8C13F4CE          8\n",
       "3  f17ac07f28f49976b4e80ca4dc42f68ca82cd2c7  SOUJMCF12A58A7A004          1\n",
       "4  18765abd13462c176d9ccc89e71bfc23265dfed7  SOBTMGJ12A6D4F8E7A          1\n",
       "5  3320ab73945ae7f03575fa3d5d152d2997568490  SOVHESP12A81C215E3         32\n",
       "6  9b12f449a571eba865582b708450eda4fce24b6b  SOPUCYA12A8C13A694          1\n",
       "7  de6cd2a7096ff31c02d3076fef621c5d909eb48f  SOPCXOV12A81C22073          2\n",
       "8  c1ec923788c07ca46a8080196620d94227d4bcda  SOGIWKD12AB018640B          2\n",
       "9  d4031cadd807d1b72f2f55bc70d952e90d69276a  SOHRWII12AAA8C6750          2"
      ]
     },
     "execution_count": 11,
     "metadata": {},
     "output_type": "execute_result"
    }
   ],
   "source": [
    "parsed_data = [line.strip().split('\\t') for line in sample]\n",
    "df = pd.DataFrame(parsed_data, columns=['user', 'song', 'play_count'])\n",
    "df.head(10)"
   ]
  }
 ],
 "metadata": {
  "kernelspec": {
   "display_name": "Python 3 (ipykernel)",
   "language": "python",
   "name": "python3"
  },
  "language_info": {
   "codemirror_mode": {
    "name": "ipython",
    "version": 3
   },
   "file_extension": ".py",
   "mimetype": "text/x-python",
   "name": "python",
   "nbconvert_exporter": "python",
   "pygments_lexer": "ipython3",
   "version": "3.10.13"
  }
 },
 "nbformat": 4,
 "nbformat_minor": 4
}
